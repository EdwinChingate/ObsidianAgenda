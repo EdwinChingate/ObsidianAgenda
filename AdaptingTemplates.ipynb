{
 "cells": [
  {
   "cell_type": "code",
   "execution_count": 1,
   "id": "6df907b0",
   "metadata": {
    "ExecuteTime": {
     "end_time": "2024-11-09T18:34:33.079891Z",
     "start_time": "2024-11-09T18:34:32.828545Z"
    }
   },
   "outputs": [],
   "source": [
    "import sys\n",
    "import os\n",
    "home=os.getcwd()\n",
    "sys.path.append(home+'/Functions')\n",
    "from FilesTemplates import *"
   ]
  },
  {
   "cell_type": "code",
   "execution_count": 2,
   "id": "f61c87ca",
   "metadata": {
    "ExecuteTime": {
     "end_time": "2024-11-09T18:34:44.817317Z",
     "start_time": "2024-11-09T18:34:42.375432Z"
    },
    "scrolled": true
   },
   "outputs": [],
   "source": [
    "FilesTemplates(2024,11,FileName='Agenda',FinalDest='0-Vault/02-Areas/02-Agenda')\n",
    "FilesTemplates(2024,11,FileName='Events',FinalDest='0-Vault/02-Areas/03-Events')\n",
    "FilesTemplates(2024,11,FileName='Finances',FinalDest='0-Vault/02-Areas/05-Finances')\n",
    "FilesTemplates(2024,11,FileName='Thoughts_and_Observations',FinalDest='0-Vault/02-Areas/04-Thoughts_and_Observations')\n",
    "FilesTemplates(2024,11,FileName='Breakfast')\n",
    "FilesTemplates(2024,11,FileName='Lunch')\n",
    "FilesTemplates(2024,11,FileName='Dinner')\n",
    "FilesTemplates(2024,11,FileName='Meal')"
   ]
  }
 ],
 "metadata": {
  "kernelspec": {
   "display_name": "Python 3 (ipykernel)",
   "language": "python",
   "name": "python3"
  },
  "language_info": {
   "codemirror_mode": {
    "name": "ipython",
    "version": 3
   },
   "file_extension": ".py",
   "mimetype": "text/x-python",
   "name": "python",
   "nbconvert_exporter": "python",
   "pygments_lexer": "ipython3",
   "version": "3.7.13"
  }
 },
 "nbformat": 4,
 "nbformat_minor": 5
}
